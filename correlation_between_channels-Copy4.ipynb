{
 "cells": [
  {
   "cell_type": "code",
   "execution_count": 1,
   "metadata": {},
   "outputs": [],
   "source": [
    "import gps_particle_data_modified as gps_particle_data\n",
    "import wget\n",
    "import os\n",
    "import numpy as np \n",
    "import time\n",
    "import json\n",
    "import sys\n",
    "import math\n",
    "import pickle\n",
    "from datetime import datetime, timedelta, date\n",
    "from itertools import compress\n",
    "from random import randint\n",
    "import urllib2\n",
    "import aacgmv2\n",
    "import scipy\n",
    "import matplotlib\n",
    "from matplotlib import gridspec\n",
    "import numpy as np\n",
    "import matplotlib.pyplot as plt\n",
    "%matplotlib inline"
   ]
  },
  {
   "cell_type": "code",
   "execution_count": 2,
   "metadata": {},
   "outputs": [
    {
     "name": "stdout",
     "output_type": "stream",
     "text": [
      "\n",
      "====================================\n",
      "Loading data for satellite  54\n",
      "File : https://www.ngdc.noaa.gov/stp/space-weather/satellite-data/satellite-systems/gps/data/ns54/ns54_140105_v1.03.ascii\n",
      "\n",
      "====================================\n",
      "Loading data for satellite  54\n",
      "File : https://www.ngdc.noaa.gov/stp/space-weather/satellite-data/satellite-systems/gps/data/ns54/ns54_061008_v1.03.ascii\n",
      "Seconds elapsed:29.669478\n",
      "Saved channel: 0\n",
      "[  694.6      628.2      548.4667 ...,  1483.867   1297.733   1106.8   ]\n",
      "Saved channel: 1\n",
      "[  859.6667   762.8667   642.6    ...,  1441.467   1154.533    906.0667]\n",
      "Saved channel: 2\n",
      "[ 728.8667  578.7333  436.7667 ...,  990.4667  702.3333  491.5667]\n",
      "Saved channel: 3\n",
      "[ 257.9667  197.6167  138.55   ...,  303.0333  194.95    125.1167]\n",
      "Saved channel: 4\n",
      "[ 48.1208  36.8958  27.1458 ...,  51.775   34.1125  23.4375]\n",
      "Saved channel: 5\n",
      "[ 39.2542  30.5292  21.5792 ...,  42.6708  25.9375  16.7229]\n",
      "Saved channel: 6\n",
      "[ 6.2646  4.5146  3.2146 ...,  7.0437  4.6062  2.8688]\n",
      "Saved channel: 7\n",
      "[ 0.6479  0.5229  0.4646 ...,  1.0771  0.6812  0.5813]\n",
      "Saved channel: 8\n",
      "[ 0.4896  0.5771  0.4646 ...,  0.8938  0.7479  0.6812]\n",
      "Saved channel: 9\n",
      "[ 0.7938  0.7313  0.8104 ...,  1.1479  1.1812  1.0229]\n",
      "Saved channel: 10\n",
      "[ 1.1938  0.9688  0.9813 ...,  1.7771  1.6646  1.5729]\n",
      "Finished Successfully\n"
     ]
    }
   ],
   "source": [
    "#Collecting data and avoiding nuclear tests for all the months in 2014 and 2015\n",
    "\n",
    "start_date = datetime(2014,1,1,0,0,0);\n",
    "end_date = datetime(2014,1,6,0,0,0);\n",
    "nkstart_date = datetime(2006,10,8,0,0,0);\n",
    "nkend_date = datetime(2006,10,9,0,0,0);\n",
    "#end_date = datetime(2014,1,5,0,0,0);\n",
    "satellite_numbers = {54}\n",
    "ms = gps_particle_data.meta_search(satellite_numbers);\n",
    "nkms = ms\n",
    "#Time Running of download state\n",
    "dlstart = datetime.now()\n",
    "ms.load_data(start_date,end_date);\n",
    "nkms.load_data(nkstart_date,nkend_date)\n",
    "dlfin = datetime.now()\n",
    "print (\"Seconds elapsed:\" + str((dlfin-dlstart).total_seconds()))\n",
    "output_data = ms.get_all_data_by_satellite()\n",
    "nkoutput_data = nkms.get_all_data_by_satellite()\n",
    "signal = 'rate_electron_measured'\n",
    "#For all channels (including ch2 as check)\n",
    "for satnumber in satellite_numbers:\n",
    "    for channel in range(11):\n",
    "        esignaloutput = np.asarray(output_data[satnumber][signal])[:,channel]\n",
    "        #Normalised cross-correlation between channel 2 and all other channels for a given time period.\n",
    "#       cor = np.correlate(a0, ar2)/(math.sqrt(np.sum(a0**2)*np.sum(ar2**2)))\n",
    "        fname = 'gareth/full_data/ch2_'+str(channel)+'.npy'\n",
    "        with open(fname, 'a') as f:\n",
    "            np.save(f, esignaloutput)\n",
    "            print 'Saved channel:', channel\n",
    "            print esignaloutput\n",
    "print \"Finished Successfully\""
   ]
  },
  {
   "cell_type": "code",
   "execution_count": 3,
   "metadata": {
    "scrolled": true
   },
   "outputs": [
    {
     "name": "stdout",
     "output_type": "stream",
     "text": [
      "b_sattelite\n",
      "proton_density_fit\n",
      "L_LGM_TS04IGRF\n",
      "b_coord_radius\n",
      "electron_diff_flux\n",
      "proton_background\n",
      "datetime\n",
      "L_LGM_OP77IGRF\n",
      "integral_flux_instrument\n",
      "model_counts_proton_fit_pf\n",
      "year\n",
      "proton_fluence_fit\n",
      "proton_flux_fit\n",
      "b_coord_height\n",
      "LEP_thresh\n",
      "electron_background\n",
      "rate_proton_measured\n",
      "Geographic_Latitude\n",
      "L_LGM_T89CDIP\n",
      "Geographic_Longitude\n",
      "decimal_year\n",
      "pfitpars\n",
      "utc_lgm\n",
      "electron_diff_flux_energy\n",
      "magnetic_longitude\n",
      "L_shell\n",
      "bfield_ratio\n",
      "electron_density_fit\n",
      "model_counts_electron_fit_pf\n",
      "Rad_Re\n",
      "proton_integrated_flux_fit\n",
      "decimal_day\n",
      "svn_number\n",
      "rate_electron_measured\n",
      "integral_flux_energy\n",
      "efitpars\n",
      "dropped_data\n",
      "proton_temperature_fit\n",
      "L_LGM_T89IGRF\n",
      "local_time\n",
      "b_equator\n",
      "model_counts_proton_fit\n",
      "proton_activity\n",
      "electron_temperature_fit\n",
      "model_counts_electron_fit\n",
      "collection_interval\n"
     ]
    }
   ],
   "source": [
    "for key, value in output_data[54].iteritems() :\n",
    "    print key"
   ]
  },
  {
   "cell_type": "code",
   "execution_count": 4,
   "metadata": {
    "scrolled": true
   },
   "outputs": [],
   "source": [
    "#with open('gareth/full_data/dataset.pkl','wb+') as f:\n",
    "    #pickle.dump(output_data,f,pickle.HIGHEST_PROTOCOL)"
   ]
  },
  {
   "cell_type": "code",
   "execution_count": null,
   "metadata": {
    "scrolled": false
   },
   "outputs": [],
   "source": []
  },
  {
   "cell_type": "code",
   "execution_count": null,
   "metadata": {
    "scrolled": true
   },
   "outputs": [],
   "source": []
  },
  {
   "cell_type": "code",
   "execution_count": 5,
   "metadata": {},
   "outputs": [
    {
     "name": "stdout",
     "output_type": "stream",
     "text": [
      "<type 'int'>\n",
      "<type 'int'>\n",
      "<type 'int'>\n",
      "<type 'int'>\n",
      "<type 'int'>\n",
      "<type 'int'>\n",
      "<type 'int'>\n",
      "<type 'int'>\n",
      "<type 'int'>\n",
      "<type 'int'>\n",
      "<type 'int'>\n"
     ]
    }
   ],
   "source": [
    "import xcorrobj\n",
    "reload(xcorrobj)\n",
    "background = xcorrobj.crosscorrelator()\n",
    "nkevent = xcorrobj.crosscorrelator()\n",
    "#background.add_correlation_data_channel(0,chsignal)\n",
    "signal = 'rate_electron_measured'\n",
    "background.add_all_signals(output_data,54,signal)\n",
    "background.add_time_data(output_data[54]['datetime'][:])\n",
    "#nkevent.add_all_signals(nkoutput_data,54,signal)\n",
    "#nkevent.add_time_data(nkoutput_data[54]['datetime'][:])"
   ]
  },
  {
   "cell_type": "code",
   "execution_count": 7,
   "metadata": {},
   "outputs": [
    {
     "ename": "ValueError",
     "evalue": "Mismatched Data Sizes",
     "output_type": "error",
     "traceback": [
      "\u001b[0;31m---------------------------------------------------------------------------\u001b[0m",
      "\u001b[0;31mValueError\u001b[0m                                Traceback (most recent call last)",
      "\u001b[0;32m<ipython-input-7-b825bc9e672e>\u001b[0m in \u001b[0;36m<module>\u001b[0;34m()\u001b[0m\n\u001b[0;32m----> 1\u001b[0;31m \u001b[0mbackground\u001b[0m\u001b[0;34m.\u001b[0m\u001b[0mcreate_corr_matrix\u001b[0m\u001b[0;34m(\u001b[0m\u001b[0mtimedelta\u001b[0m\u001b[0;34m(\u001b[0m\u001b[0mhours\u001b[0m\u001b[0;34m=\u001b[0m\u001b[0;36m1\u001b[0m\u001b[0;34m)\u001b[0m\u001b[0;34m)\u001b[0m\u001b[0;34m\u001b[0m\u001b[0m\n\u001b[0m\u001b[1;32m      2\u001b[0m \u001b[0;31m#nkevent.create_corr_matrix(timedelta(days=1))\u001b[0m\u001b[0;34m\u001b[0m\u001b[0;34m\u001b[0m\u001b[0m\n",
      "\u001b[0;32m/home/gareth/Desktop/fwclone/xcorrobj.pyc\u001b[0m in \u001b[0;36mcreate_corr_matrix\u001b[0;34m(self, timewidth)\u001b[0m\n\u001b[1;32m     64\u001b[0m             \u001b[0;32mfor\u001b[0m \u001b[0mch2\u001b[0m \u001b[0;32min\u001b[0m \u001b[0mrange\u001b[0m\u001b[0;34m(\u001b[0m\u001b[0mlen\u001b[0m\u001b[0;34m(\u001b[0m\u001b[0mself\u001b[0m\u001b[0;34m.\u001b[0m\u001b[0mdatastore\u001b[0m\u001b[0;34m[\u001b[0m\u001b[0;36m0\u001b[0m\u001b[0;34m]\u001b[0m\u001b[0;34m)\u001b[0m\u001b[0;34m)\u001b[0m\u001b[0;34m:\u001b[0m\u001b[0;34m\u001b[0m\u001b[0m\n\u001b[1;32m     65\u001b[0m                  \u001b[0;32mif\u001b[0m \u001b[0mch1\u001b[0m\u001b[0;34m>=\u001b[0m\u001b[0mch2\u001b[0m\u001b[0;34m:\u001b[0m\u001b[0;34m\u001b[0m\u001b[0m\n\u001b[0;32m---> 66\u001b[0;31m                     \u001b[0mconvert\u001b[0m\u001b[0;34m=\u001b[0m\u001b[0mnp\u001b[0m\u001b[0;34m.\u001b[0m\u001b[0marray\u001b[0m\u001b[0;34m(\u001b[0m\u001b[0mself\u001b[0m\u001b[0;34m.\u001b[0m\u001b[0mcorrelate\u001b[0m\u001b[0;34m(\u001b[0m\u001b[0mtimewidth\u001b[0m\u001b[0;34m,\u001b[0m\u001b[0mch1\u001b[0m\u001b[0;34m,\u001b[0m\u001b[0mch2\u001b[0m\u001b[0;34m)\u001b[0m\u001b[0;34m)\u001b[0m\u001b[0;34m.\u001b[0m\u001b[0mtolist\u001b[0m\u001b[0;34m(\u001b[0m\u001b[0;34m)\u001b[0m\u001b[0;34m\u001b[0m\u001b[0m\n\u001b[0m\u001b[1;32m     67\u001b[0m                     \u001b[0mconversion_step\u001b[0m\u001b[0;34m.\u001b[0m\u001b[0mappend\u001b[0m\u001b[0;34m(\u001b[0m\u001b[0;34m(\u001b[0m\u001b[0mch1\u001b[0m\u001b[0;34m,\u001b[0m\u001b[0mch2\u001b[0m\u001b[0;34m,\u001b[0m\u001b[0;34m[\u001b[0m\u001b[0mconvert\u001b[0m\u001b[0;34m[\u001b[0m\u001b[0mindex\u001b[0m\u001b[0;34m]\u001b[0m\u001b[0;34m[\u001b[0m\u001b[0;36m0\u001b[0m\u001b[0;34m]\u001b[0m \u001b[0;32mfor\u001b[0m \u001b[0mindex\u001b[0m \u001b[0;32min\u001b[0m \u001b[0mrange\u001b[0m\u001b[0;34m(\u001b[0m\u001b[0mlen\u001b[0m\u001b[0;34m(\u001b[0m\u001b[0mconvert\u001b[0m\u001b[0;34m)\u001b[0m\u001b[0;34m)\u001b[0m\u001b[0;34m]\u001b[0m\u001b[0;34m)\u001b[0m\u001b[0;34m)\u001b[0m\u001b[0;34m\u001b[0m\u001b[0m\n\u001b[1;32m     68\u001b[0m         \u001b[0mself\u001b[0m\u001b[0;34m.\u001b[0m\u001b[0mcorrelation_matrix\u001b[0m\u001b[0;34m=\u001b[0m\u001b[0mnp\u001b[0m\u001b[0;34m.\u001b[0m\u001b[0mzeros\u001b[0m\u001b[0;34m(\u001b[0m\u001b[0;34m(\u001b[0m\u001b[0mchannels\u001b[0m\u001b[0;34m,\u001b[0m\u001b[0mchannels\u001b[0m\u001b[0;34m,\u001b[0m\u001b[0mlen\u001b[0m\u001b[0;34m(\u001b[0m\u001b[0mconversion_step\u001b[0m\u001b[0;34m[\u001b[0m\u001b[0;36m0\u001b[0m\u001b[0;34m]\u001b[0m\u001b[0;34m[\u001b[0m\u001b[0;36m2\u001b[0m\u001b[0;34m]\u001b[0m\u001b[0;34m)\u001b[0m\u001b[0;34m)\u001b[0m\u001b[0;34m)\u001b[0m\u001b[0;34m\u001b[0m\u001b[0m\n",
      "\u001b[0;32m/home/gareth/Desktop/fwclone/xcorrobj.pyc\u001b[0m in \u001b[0;36mcorrelate\u001b[0;34m(self, corrinterval, ch1, ch2)\u001b[0m\n\u001b[1;32m     28\u001b[0m         \u001b[0;31m#Check if data makes sense\u001b[0m\u001b[0;34m\u001b[0m\u001b[0;34m\u001b[0m\u001b[0m\n\u001b[1;32m     29\u001b[0m         \u001b[0;32mif\u001b[0m \u001b[0mlen\u001b[0m\u001b[0;34m(\u001b[0m\u001b[0mself\u001b[0m\u001b[0;34m.\u001b[0m\u001b[0mdatastore\u001b[0m\u001b[0;34m)\u001b[0m \u001b[0;34m!=\u001b[0m \u001b[0mlen\u001b[0m\u001b[0;34m(\u001b[0m\u001b[0mself\u001b[0m\u001b[0;34m.\u001b[0m\u001b[0mtimestamps\u001b[0m\u001b[0;34m)\u001b[0m\u001b[0;34m:\u001b[0m\u001b[0;34m\u001b[0m\u001b[0m\n\u001b[0;32m---> 30\u001b[0;31m             \u001b[0;32mraise\u001b[0m \u001b[0mValueError\u001b[0m \u001b[0;34m(\u001b[0m\u001b[0;34m\"Mismatched Data Sizes\"\u001b[0m\u001b[0;34m)\u001b[0m\u001b[0;34m\u001b[0m\u001b[0m\n\u001b[0m\u001b[1;32m     31\u001b[0m         \u001b[0;32mif\u001b[0m \u001b[0mtype\u001b[0m\u001b[0;34m(\u001b[0m\u001b[0mcorrinterval\u001b[0m\u001b[0;34m)\u001b[0m \u001b[0;34m!=\u001b[0m \u001b[0mtype\u001b[0m\u001b[0;34m(\u001b[0m\u001b[0mtimedelta\u001b[0m\u001b[0;34m(\u001b[0m\u001b[0;34m)\u001b[0m\u001b[0;34m)\u001b[0m\u001b[0;34m:\u001b[0m\u001b[0;34m\u001b[0m\u001b[0m\n\u001b[1;32m     32\u001b[0m             \u001b[0;32mraise\u001b[0m \u001b[0mValueError\u001b[0m \u001b[0;34m(\u001b[0m\u001b[0;34m\"timewidth imcompatible\"\u001b[0m\u001b[0;34m)\u001b[0m\u001b[0;34m\u001b[0m\u001b[0m\n",
      "\u001b[0;31mValueError\u001b[0m: Mismatched Data Sizes"
     ]
    }
   ],
   "source": [
    "background.create_corr_matrix(timedelta(hours=1))\n",
    "#nkevent.create_corr_matrix(timedelta(days=1))"
   ]
  },
  {
   "cell_type": "code",
   "execution_count": null,
   "metadata": {},
   "outputs": [],
   "source": [
    "print len(background.datastore), background.timestamps[1:500]"
   ]
  },
  {
   "cell_type": "code",
   "execution_count": null,
   "metadata": {},
   "outputs": [],
   "source": []
  },
  {
   "cell_type": "code",
   "execution_count": null,
   "metadata": {},
   "outputs": [],
   "source": []
  }
 ],
 "metadata": {
  "kernelspec": {
   "display_name": "Python 2",
   "language": "python",
   "name": "python2"
  },
  "language_info": {
   "codemirror_mode": {
    "name": "ipython",
    "version": 2
   },
   "file_extension": ".py",
   "mimetype": "text/x-python",
   "name": "python",
   "nbconvert_exporter": "python",
   "pygments_lexer": "ipython2",
   "version": "2.7.12"
  }
 },
 "nbformat": 4,
 "nbformat_minor": 2
}
