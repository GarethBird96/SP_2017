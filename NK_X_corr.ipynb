{
 "cells": [
  {
   "cell_type": "code",
   "execution_count": 1,
   "metadata": {
    "collapsed": true
   },
   "outputs": [],
   "source": [
    "import gps_particle_data\n",
    "import wget\n",
    "import os\n",
    "import numpy as np \n",
    "import time\n",
    "import json\n",
    "import sys\n",
    "import math\n",
    "from datetime import datetime, timedelta, date\n",
    "from itertools import compress\n",
    "from random import randint\n",
    "import urllib2\n",
    "import aacgmv2\n",
    "import scipy\n",
    "import matplotlib\n",
    "from matplotlib import gridspec\n",
    "import numpy as np\n",
    "import matplotlib.pyplot as plt\n",
    "%matplotlib inline"
   ]
  },
  {
   "cell_type": "code",
   "execution_count": 5,
   "metadata": {},
   "outputs": [
    {
     "data": {
      "image/png": "[encoded data removed]",
      "text/plain": [
       "<matplotlib.figure.Figure at 0x7f916f371ed0>"
      ]
     },
     "metadata": {},
     "output_type": "display_data"
    },
    {
     "data": {
      "image/png": "[encoded data removed]",
      "text/plain": [
       "<matplotlib.figure.Figure at 0x7f9143dc9f10>"
      ]
     },
     "metadata": {},
     "output_type": "display_data"
    },
    {
     "data": {
      "image/png": "[encoded data removed]",
      "text/plain": [
       "<matplotlib.figure.Figure at 0x7f9143d2d490>"
      ]
     },
     "metadata": {},
     "output_type": "display_data"
    },
    {
     "ename": "IOError",
     "evalue": "[Errno 2] No such file or directory: 'ch2_3.ascii'",
     "output_type": "error",
     "traceback": [
      "\u001b[0;31m---------------------------------------------------------------------------\u001b[0m",
      "\u001b[0;31mIOError\u001b[0m                                   Traceback (most recent call last)",
      "\u001b[0;32m<ipython-input-5-addff67bd9e7>\u001b[0m in \u001b[0;36m<module>\u001b[0;34m()\u001b[0m\n\u001b[1;32m      2\u001b[0m     \u001b[0mfname\u001b[0m \u001b[0;34m=\u001b[0m \u001b[0;34m'ch2_'\u001b[0m\u001b[0;34m+\u001b[0m\u001b[0mstr\u001b[0m\u001b[0;34m(\u001b[0m\u001b[0mi\u001b[0m\u001b[0;34m)\u001b[0m\u001b[0;34m+\u001b[0m\u001b[0;34m'.ascii'\u001b[0m\u001b[0;34m\u001b[0m\u001b[0m\n\u001b[1;32m      3\u001b[0m     \u001b[0mfig\u001b[0m \u001b[0;34m=\u001b[0m \u001b[0mplt\u001b[0m\u001b[0;34m.\u001b[0m\u001b[0mfigure\u001b[0m\u001b[0;34m(\u001b[0m\u001b[0mfigsize\u001b[0m\u001b[0;34m=\u001b[0m\u001b[0;34m(\u001b[0m\u001b[0;36m12\u001b[0m\u001b[0;34m,\u001b[0m \u001b[0;36m9\u001b[0m\u001b[0;34m)\u001b[0m\u001b[0;34m)\u001b[0m\u001b[0;34m\u001b[0m\u001b[0m\n\u001b[0;32m----> 4\u001b[0;31m     \u001b[0mcor\u001b[0m \u001b[0;34m=\u001b[0m \u001b[0mnp\u001b[0m\u001b[0;34m.\u001b[0m\u001b[0mloadtxt\u001b[0m\u001b[0;34m(\u001b[0m\u001b[0mfname\u001b[0m\u001b[0;34m)\u001b[0m\u001b[0;34m\u001b[0m\u001b[0m\n\u001b[0m\u001b[1;32m      5\u001b[0m     \u001b[0mplt\u001b[0m\u001b[0;34m.\u001b[0m\u001b[0mhist\u001b[0m\u001b[0;34m(\u001b[0m\u001b[0mcor\u001b[0m\u001b[0;34m,\u001b[0m \u001b[0mbins\u001b[0m \u001b[0;34m=\u001b[0m \u001b[0mnp\u001b[0m\u001b[0;34m.\u001b[0m\u001b[0marange\u001b[0m\u001b[0;34m(\u001b[0m\u001b[0mmin\u001b[0m\u001b[0;34m(\u001b[0m\u001b[0mcor\u001b[0m\u001b[0;34m)\u001b[0m\u001b[0;34m,\u001b[0m \u001b[0mmax\u001b[0m\u001b[0;34m(\u001b[0m\u001b[0mcor\u001b[0m\u001b[0;34m)\u001b[0m\u001b[0;34m+\u001b[0m\u001b[0;36m0.1\u001b[0m\u001b[0;34m,\u001b[0m \u001b[0;36m0.05\u001b[0m\u001b[0;34m)\u001b[0m\u001b[0;34m)\u001b[0m\u001b[0;34m\u001b[0m\u001b[0m\n\u001b[1;32m      6\u001b[0m     \u001b[0mplt\u001b[0m\u001b[0;34m.\u001b[0m\u001b[0mtitle\u001b[0m\u001b[0;34m(\u001b[0m\u001b[0mfname\u001b[0m\u001b[0;34m)\u001b[0m\u001b[0;34m\u001b[0m\u001b[0m\n",
      "\u001b[0;32m/home/filip/.local/lib/python2.7/site-packages/numpy/lib/npyio.pyc\u001b[0m in \u001b[0;36mloadtxt\u001b[0;34m(fname, dtype, comments, delimiter, converters, skiprows, usecols, unpack, ndmin)\u001b[0m\n\u001b[1;32m    894\u001b[0m                 \u001b[0mfh\u001b[0m \u001b[0;34m=\u001b[0m \u001b[0miter\u001b[0m\u001b[0;34m(\u001b[0m\u001b[0mbz2\u001b[0m\u001b[0;34m.\u001b[0m\u001b[0mBZ2File\u001b[0m\u001b[0;34m(\u001b[0m\u001b[0mfname\u001b[0m\u001b[0;34m)\u001b[0m\u001b[0;34m)\u001b[0m\u001b[0;34m\u001b[0m\u001b[0m\n\u001b[1;32m    895\u001b[0m             \u001b[0;32melif\u001b[0m \u001b[0msys\u001b[0m\u001b[0;34m.\u001b[0m\u001b[0mversion_info\u001b[0m\u001b[0;34m[\u001b[0m\u001b[0;36m0\u001b[0m\u001b[0;34m]\u001b[0m \u001b[0;34m==\u001b[0m \u001b[0;36m2\u001b[0m\u001b[0;34m:\u001b[0m\u001b[0;34m\u001b[0m\u001b[0m\n\u001b[0;32m--> 896\u001b[0;31m                 \u001b[0mfh\u001b[0m \u001b[0;34m=\u001b[0m \u001b[0miter\u001b[0m\u001b[0;34m(\u001b[0m\u001b[0mopen\u001b[0m\u001b[0;34m(\u001b[0m\u001b[0mfname\u001b[0m\u001b[0;34m,\u001b[0m \u001b[0;34m'U'\u001b[0m\u001b[0;34m)\u001b[0m\u001b[0;34m)\u001b[0m\u001b[0;34m\u001b[0m\u001b[0m\n\u001b[0m\u001b[1;32m    897\u001b[0m             \u001b[0;32melse\u001b[0m\u001b[0;34m:\u001b[0m\u001b[0;34m\u001b[0m\u001b[0m\n\u001b[1;32m    898\u001b[0m                 \u001b[0mfh\u001b[0m \u001b[0;34m=\u001b[0m \u001b[0miter\u001b[0m\u001b[0;34m(\u001b[0m\u001b[0mopen\u001b[0m\u001b[0;34m(\u001b[0m\u001b[0mfname\u001b[0m\u001b[0;34m)\u001b[0m\u001b[0;34m)\u001b[0m\u001b[0;34m\u001b[0m\u001b[0m\n",
      "\u001b[0;31mIOError\u001b[0m: [Errno 2] No such file or directory: 'ch2_3.ascii'"
     ]
    },
    {
     "data": {
      "text/plain": [
       "<matplotlib.figure.Figure at 0x7f9143a829d0>"
      ]
     },
     "metadata": {},
     "output_type": "display_data"
    }
   ],
   "source": [
    "for i in range(11):\n",
    "    fname = 'ch2_'+str(i)+'.ascii'\n",
    "    fig = plt.figure(figsize=(12, 9))\n",
    "    cor = np.loadtxt(fname)\n",
    "    plt.hist(cor, bins = np.arange(min(cor), max(cor)+0.1, 0.05))\n",
    "    plt.title(fname)\n",
    "    plt.show()"
   ]
  },
  {
   "cell_type": "code",
   "execution_count": 3,
   "metadata": {},
   "outputs": [
    {
     "name": "stdout",
     "output_type": "stream",
     "text": [
      "\n",
      "====================================\n",
      "Loading data for satellite  56\n",
      "File : https://www.ngdc.noaa.gov/stp/space-weather/satellite-data/satellite-systems/gps/data/ns56/ns56_061008_v1.03.ascii\n"
     ]
    }
   ],
   "source": [
    "#Test 9th Oct 2006\n",
    "\n",
    "start_date = datetime(2006,10,8,0,0,0);\n",
    "end_date = datetime(2006,10,9,0,0,0);\n",
    "ms = gps_particle_data.meta_search();\n",
    "ms.load_data(start_date,end_date);"
   ]
  },
  {
   "cell_type": "code",
   "execution_count": 4,
   "metadata": {
    "scrolled": true
   },
   "outputs": [
    {
     "name": "stdout",
     "output_type": "stream",
     "text": [
      "{0: array([ 0.83148883]), 1: array([ 0.94619019]), 2: array([ 1.]), 3: array([ 0.79996203]), 4: array([ 0.55877969]), 5: array([ 0.49685049]), 6: array([ 0.4309518]), 7: array([ 0.4236888]), 8: array([ 0.57866459]), 9: array([ 0.54628556]), 10: array([ 0.50906531])}\n"
     ]
    }
   ],
   "source": [
    "#Print cross-cor coef between channel 2 and all other channels.\n",
    "dcor = {}\n",
    "signal = 'rate_electron_measured'\n",
    "output_data = ms.get_all_data_by_satellite()\n",
    "for i in range(11):\n",
    "    a0 = np.asarray(output_data[54][signal])[:,2]\n",
    "    ar2 = np.asarray(output_data[54][signal])[:,i]\n",
    "    cor = np.correlate(a0, ar2)/(math.sqrt(np.sum(a0**2)*np.sum(ar2**2)))\n",
    "    dcor.update({i:cor})\n",
    "print dcor"
   ]
  },
  {
   "cell_type": "code",
   "execution_count": 5,
   "metadata": {},
   "outputs": [
    {
     "name": "stdout",
     "output_type": "stream",
     "text": [
      "ch2_0.ascii [ 0.83148883] 0.37\n",
      "ch2_1.ascii [ 0.94619019] 0.72\n",
      "ch2_2.ascii [ 1.] 1.00\n",
      "ch2_3.ascii [ 0.79996203] 0.03\n",
      "ch2_4.ascii [ 0.55877969] 0.08\n",
      "ch2_5.ascii [ 0.49685049] 0.14\n",
      "ch2_6.ascii [ 0.4309518] 0.17\n",
      "ch2_7.ascii [ 0.4236888] 0.15\n",
      "ch2_8.ascii [ 0.57866459] 0.24\n",
      "ch2_9.ascii [ 0.54628556] 0.21\n",
      "ch2_10.ascii [ 0.50906531] 0.20\n"
     ]
    }
   ],
   "source": [
    "#To find porbability of a give X-correlation parameter to land in a given or lower bin.\n",
    "\n",
    "xv = dcor.values()\n",
    "for i in range(len(xv)):\n",
    "    sum_bins_up_to = []\n",
    "    fname = 'ch2_'+str(i)+'.ascii'\n",
    "    cor = np.loadtxt(fname)\n",
    "    sort = np.histogram(cor, bins = np.arange(min(cor), max(cor)+0.1, 0.05))\n",
    "    for j in range(len(sort[1])):\n",
    "        if sort[1][j] <= xv[i] <= sort[1][j+1]:\n",
    "            for k in np.arange(j+1):\n",
    "                sum_bins_up_to.append(sort[0][k])\n",
    "            tot_sum_up_to = np.sum(sum_bins_up_to)\n",
    "            pvalue = float(tot_sum_up_to)/float(np.sum(sort[0]))\n",
    "            print fname, xv[i], '%.2f' % (pvalue)\n",
    "#prints file name, cross-cor value and corresponding p-value"
   ]
  },
  {
   "cell_type": "code",
   "execution_count": 2,
   "metadata": {},
   "outputs": [
    {
     "name": "stdout",
     "output_type": "stream",
     "text": [
      "\n",
      "====================================\n",
      "Loading data for satellite  54\n",
      "File : https://www.ngdc.noaa.gov/stp/space-weather/satellite-data/satellite-systems/gps/data/ns54/ns54_090524_v1.03.ascii\n"
     ]
    }
   ],
   "source": [
    "#Test 25th May 2009\n",
    "\n",
    "start_date = datetime(2009,5,20,0,0,0);\n",
    "end_date = datetime(2009,5,26,0,0,0);\n",
    "ms = gps_particle_data.meta_search();\n",
    "ms.load_data(start_date,end_date);"
   ]
  },
  {
   "cell_type": "code",
   "execution_count": 3,
   "metadata": {
    "scrolled": true
   },
   "outputs": [
    {
     "name": "stdout",
     "output_type": "stream",
     "text": [
      "{0: array([ 0.90564443]), 1: array([ 0.9698943]), 2: array([ 1.]), 3: array([ 0.51876266]), 4: array([ 0.28480329]), 5: array([ 0.22985944]), 6: array([ 0.2348699]), 7: array([ 0.26582402]), 8: array([ 0.2645961]), 9: array([ 0.26655484]), 10: array([ 0.26925032])}\n"
     ]
    }
   ],
   "source": [
    "dcor = {}\n",
    "signal = 'rate_electron_measured'\n",
    "output_data = ms.get_all_data_by_satellite()\n",
    "for i in range(11):\n",
    "    a0 = np.asarray(output_data[54][signal])[:,2]\n",
    "    ar2 = np.asarray(output_data[54][signal])[:,i]\n",
    "    cor = np.correlate(a0, ar2)/(math.sqrt(np.sum(a0**2)*np.sum(ar2**2)))\n",
    "    dcor.update({i:cor})\n",
    "print dcor"
   ]
  },
  {
   "cell_type": "code",
   "execution_count": 4,
   "metadata": {
    "scrolled": true
   },
   "outputs": [
    {
     "name": "stdout",
     "output_type": "stream",
     "text": [
      "ch2_0.ascii [ 0.90564443] 0.49\n",
      "ch2_1.ascii [ 0.9698943] 0.72\n",
      "ch2_2.ascii [ 1.] 1.00\n",
      "ch2_3.ascii [ 0.51876266] 0.01\n",
      "ch2_5.ascii [ 0.22985944] 0.04\n",
      "ch2_6.ascii [ 0.2348699] 0.04\n",
      "ch2_7.ascii [ 0.26582402] 0.07\n",
      "ch2_8.ascii [ 0.2645961] 0.05\n",
      "ch2_9.ascii [ 0.26655484] 0.03\n",
      "ch2_10.ascii [ 0.26925032] 0.03\n"
     ]
    }
   ],
   "source": [
    "xv = dcor.values()\n",
    "for i in range(len(xv)):\n",
    "    sum_bins_up_to = []\n",
    "    fname = 'ch2_'+str(i)+'.ascii'\n",
    "    cor = np.loadtxt(fname)\n",
    "    sort = np.histogram(cor, bins = np.arange(min(cor), max(cor)+0.1, 0.05))\n",
    "    for j in range(len(sort[1])):\n",
    "        if sort[1][j] <= xv[i] <= sort[1][j+1]:\n",
    "            for k in np.arange(j+1):\n",
    "                sum_bins_up_to.append(sort[0][k])\n",
    "            tot_sum_up_to = np.sum(sum_bins_up_to)\n",
    "            pvalue = float(tot_sum_up_to)/float(np.sum(sort[0]))\n",
    "            print fname, xv[i], '%.2f' % (pvalue)"
   ]
  },
  {
   "cell_type": "code",
   "execution_count": 10,
   "metadata": {},
   "outputs": [
    {
     "data": {
      "image/png": "[encoded data removed]",
      "text/plain": [
       "<matplotlib.figure.Figure at 0x7fae981e1bd0>"
      ]
     },
     "metadata": {},
     "output_type": "display_data"
    }
   ],
   "source": [
    "fname = 'ch2_3.ascii'\n",
    "fig = plt.figure(figsize=(12, 9))\n",
    "ax = fig.add_subplot(111)\n",
    "cor = np.loadtxt(fname)\n",
    "ax.hist(cor, bins = np.arange(min(cor), max(cor)+0.1, 0.05), label = 'No tests')\n",
    "ax.hist(xv[3], np.arange(min(cor), max(cor)+0.1, 0.05), color = 'red', label = 'Test: 25th May 2009')\n",
    "#plt.title(fname)\n",
    "plt.xlabel('Cross-correlation coefficient', fontsize = 30)\n",
    "plt.ylabel('Frequency', fontsize = 30)\n",
    "plt.legend(fontsize = 'xx-large')\n",
    "plt.show()"
   ]
  },
  {
   "cell_type": "code",
   "execution_count": 9,
   "metadata": {},
   "outputs": [
    {
     "name": "stdout",
     "output_type": "stream",
     "text": [
      "\n",
      "====================================\n",
      "Loading data for satellite  54\n",
      "File : https://www.ngdc.noaa.gov/stp/space-weather/satellite-data/satellite-systems/gps/data/ns54/ns54_130210_v1.03.ascii\n"
     ]
    }
   ],
   "source": [
    "#Test 12th Feb 2013\n",
    "\n",
    "start_date = datetime(2013,2,9,0,0,0);\n",
    "end_date = datetime(2013,2,13,0,0,0);\n",
    "ms = gps_particle_data.meta_search();\n",
    "ms.load_data(start_date,end_date);"
   ]
  },
  {
   "cell_type": "code",
   "execution_count": 10,
   "metadata": {},
   "outputs": [
    {
     "name": "stdout",
     "output_type": "stream",
     "text": [
      "{0: array([ 0.86554345]), 1: array([ 0.97030944]), 2: array([ 1.]), 3: array([ 0.95936102]), 4: array([ 0.60858687]), 5: array([ 0.44541832]), 6: array([ 0.29237644]), 7: array([ 0.22931216]), 8: array([ 0.26515978]), 9: array([ 0.3520484]), 10: array([ 0.40900525])}\n"
     ]
    }
   ],
   "source": [
    "dcor = {}\n",
    "signal = 'rate_electron_measured'\n",
    "output_data = ms.get_all_data_by_satellite()\n",
    "for i in range(11):\n",
    "    a0 = np.asarray(output_data[54][signal])[:,2]\n",
    "    ar2 = np.asarray(output_data[54][signal])[:,i]\n",
    "    cor = np.correlate(a0, ar2)/(math.sqrt(np.sum(a0**2)*np.sum(ar2**2)))\n",
    "    dcor.update({i:cor})\n",
    "print dcor"
   ]
  },
  {
   "cell_type": "code",
   "execution_count": 11,
   "metadata": {},
   "outputs": [
    {
     "name": "stdout",
     "output_type": "stream",
     "text": [
      "ch2_0.ascii [ 0.86554345] 0.49\n",
      "ch2_1.ascii [ 0.97030944] 0.72\n",
      "ch2_2.ascii [ 1.] 1.00\n",
      "ch2_3.ascii [ 0.95936102] 0.63\n",
      "ch2_4.ascii [ 0.60858687] 0.12\n",
      "ch2_5.ascii [ 0.44541832] 0.10\n",
      "ch2_6.ascii [ 0.29237644] 0.06\n",
      "ch2_7.ascii [ 0.22931216] 0.05\n",
      "ch2_8.ascii [ 0.26515978] 0.05\n",
      "ch2_9.ascii [ 0.3520484] 0.04\n",
      "ch2_10.ascii [ 0.40900525] 0.08\n"
     ]
    }
   ],
   "source": [
    "xv = dcor.values()\n",
    "for i in range(len(xv)):\n",
    "    sum_bins_up_to = []\n",
    "    fname = 'ch2_'+str(i)+'.ascii'\n",
    "    cor = np.loadtxt(fname)\n",
    "    sort = np.histogram(cor, bins = np.arange(min(cor), max(cor)+0.1, 0.05))\n",
    "    for j in range(len(sort[1])):\n",
    "        if sort[1][j] <= xv[i] <= sort[1][j+1]:\n",
    "            for k in np.arange(j+1):\n",
    "                sum_bins_up_to.append(sort[0][k])\n",
    "            tot_sum_up_to = np.sum(sum_bins_up_to)\n",
    "            pvalue = float(tot_sum_up_to)/float(np.sum(sort[0]))\n",
    "            print fname, xv[i], '%.2f' % (pvalue)"
   ]
  },
  {
   "cell_type": "code",
   "execution_count": 12,
   "metadata": {},
   "outputs": [
    {
     "name": "stdout",
     "output_type": "stream",
     "text": [
      "\n",
      "====================================\n",
      "Loading data for satellite  54\n",
      "File : https://www.ngdc.noaa.gov/stp/space-weather/satellite-data/satellite-systems/gps/data/ns54/ns54_160103_v1.03.ascii\n"
     ]
    }
   ],
   "source": [
    "#Test 6th Jan 2016\n",
    "\n",
    "start_date = datetime(2016,1,2,0,0,0);\n",
    "end_date = datetime(2016,1,7,0,0,0);\n",
    "ms = gps_particle_data.meta_search();\n",
    "ms.load_data(start_date,end_date);"
   ]
  },
  {
   "cell_type": "code",
   "execution_count": 13,
   "metadata": {},
   "outputs": [
    {
     "name": "stdout",
     "output_type": "stream",
     "text": [
      "{0: array([ 0.9921995]), 1: array([ 0.99709324]), 2: array([ 1.]), 3: array([ 0.98807985]), 4: array([ 0.96474178]), 5: array([ 0.95080567]), 6: array([ 0.93242719]), 7: array([ 0.9167545]), 8: array([ 0.9298768]), 9: array([ 0.93921355]), 10: array([ 0.93808342])}\n"
     ]
    }
   ],
   "source": [
    "dcor = {}\n",
    "signal = 'rate_electron_measured'\n",
    "output_data = ms.get_all_data_by_satellite()\n",
    "for i in range(11):\n",
    "    a0 = np.asarray(output_data[54][signal])[:,2]\n",
    "    ar2 = np.asarray(output_data[54][signal])[:,i]\n",
    "    cor = np.correlate(a0, ar2)/(math.sqrt(np.sum(a0**2)*np.sum(ar2**2)))\n",
    "    dcor.update({i:cor})\n",
    "print dcor"
   ]
  },
  {
   "cell_type": "code",
   "execution_count": 14,
   "metadata": {},
   "outputs": [
    {
     "name": "stdout",
     "output_type": "stream",
     "text": [
      "ch2_0.ascii [ 0.9921995] 1.00\n",
      "ch2_1.ascii [ 0.99709324] 1.00\n",
      "ch2_2.ascii [ 1.] 1.00\n",
      "ch2_3.ascii [ 0.98807985] 1.00\n",
      "ch2_4.ascii [ 0.96474178] 1.00\n",
      "ch2_5.ascii [ 0.95080567] 0.95\n",
      "ch2_6.ascii [ 0.93242719] 0.96\n",
      "ch2_7.ascii [ 0.9167545] 0.99\n",
      "ch2_8.ascii [ 0.9298768] 1.00\n",
      "ch2_9.ascii [ 0.93921355] 1.00\n",
      "ch2_10.ascii [ 0.93808342] 0.99\n"
     ]
    }
   ],
   "source": [
    "xv = dcor.values()\n",
    "for i in range(len(xv)):\n",
    "    sum_bins_up_to = []\n",
    "    fname = 'ch2_'+str(i)+'.ascii'\n",
    "    cor = np.loadtxt(fname)\n",
    "    sort = np.histogram(cor, bins = np.arange(min(cor), max(cor)+0.1, 0.05))\n",
    "    for j in range(len(sort[1])):\n",
    "        if sort[1][j] <= xv[i] <= sort[1][j+1]:\n",
    "            for k in np.arange(j+1):\n",
    "                sum_bins_up_to.append(sort[0][k])\n",
    "            tot_sum_up_to = np.sum(sum_bins_up_to)\n",
    "            pvalue = float(tot_sum_up_to)/float(np.sum(sort[0]))\n",
    "            print fname, xv[i], '%.2f' % (pvalue)"
   ]
  },
  {
   "cell_type": "code",
   "execution_count": 15,
   "metadata": {},
   "outputs": [
    {
     "name": "stdout",
     "output_type": "stream",
     "text": [
      "\n",
      "====================================\n",
      "Loading data for satellite  54\n",
      "File : https://www.ngdc.noaa.gov/stp/space-weather/satellite-data/satellite-systems/gps/data/ns54/ns54_160904_v1.03.ascii\n"
     ]
    }
   ],
   "source": [
    "#Test 9th Sept 2016\n",
    "\n",
    "start_date = datetime(2016,9,4,0,0,0);\n",
    "end_date = datetime(2016,9,10,0,0,0);\n",
    "ms = gps_particle_data.meta_search();\n",
    "ms.load_data(start_date,end_date);"
   ]
  },
  {
   "cell_type": "code",
   "execution_count": 16,
   "metadata": {},
   "outputs": [
    {
     "name": "stdout",
     "output_type": "stream",
     "text": [
      "{0: array([ 0.99509029]), 1: array([ 0.99840777]), 2: array([ 1.]), 3: array([ 0.99635832]), 4: array([ 0.97559366]), 5: array([ 0.95880331]), 6: array([ 0.92702036]), 7: array([ 0.8872584]), 8: array([ 0.89495642]), 9: array([ 0.93346193]), 10: array([ 0.92548569])}\n"
     ]
    }
   ],
   "source": [
    "dcor = {}\n",
    "signal = 'rate_electron_measured'\n",
    "output_data = ms.get_all_data_by_satellite()\n",
    "for i in range(11):\n",
    "    a0 = np.asarray(output_data[54][signal])[:,2]\n",
    "    ar2 = np.asarray(output_data[54][signal])[:,i]\n",
    "    cor = np.correlate(a0, ar2)/(math.sqrt(np.sum(a0**2)*np.sum(ar2**2)))\n",
    "    dcor.update({i:cor})\n",
    "print dcor"
   ]
  },
  {
   "cell_type": "code",
   "execution_count": 17,
   "metadata": {},
   "outputs": [
    {
     "name": "stdout",
     "output_type": "stream",
     "text": [
      "ch2_0.ascii [ 0.99509029] 1.00\n",
      "ch2_1.ascii [ 0.99840777] 1.00\n",
      "ch2_2.ascii [ 1.] 1.00\n",
      "ch2_3.ascii [ 0.99635832] 1.00\n",
      "ch2_4.ascii [ 0.97559366] 1.00\n",
      "ch2_5.ascii [ 0.95880331] 0.95\n",
      "ch2_6.ascii [ 0.92702036] 0.96\n",
      "ch2_7.ascii [ 0.8872584] 0.90\n",
      "ch2_8.ascii [ 0.89495642] 0.94\n",
      "ch2_9.ascii [ 0.93346193] 1.00\n",
      "ch2_10.ascii [ 0.92548569] 0.99\n"
     ]
    }
   ],
   "source": [
    "xv = dcor.values()\n",
    "for i in range(len(xv)):\n",
    "    sum_bins_up_to = []\n",
    "    fname = 'ch2_'+str(i)+'.ascii'\n",
    "    cor = np.loadtxt(fname)\n",
    "    sort = np.histogram(cor, bins = np.arange(min(cor), max(cor)+0.1, 0.05))\n",
    "    for j in range(len(sort[1])):\n",
    "        if sort[1][j] <= xv[i] <= sort[1][j+1]:\n",
    "            for k in np.arange(j+1):\n",
    "                sum_bins_up_to.append(sort[0][k])\n",
    "            tot_sum_up_to = np.sum(sum_bins_up_to)\n",
    "            pvalue = float(tot_sum_up_to)/float(np.sum(sort[0]))\n",
    "            print fname, xv[i], '%.2f' % (pvalue)"
   ]
  }
 ],
 "metadata": {
  "kernelspec": {
   "display_name": "Python 3",
   "language": "python",
   "name": "python3"
  },
  "language_info": {
   "codemirror_mode": {
    "name": "ipython",
    "version": 2
   },
   "file_extension": ".py",
   "mimetype": "text/x-python",
   "name": "python",
   "nbconvert_exporter": "python",
   "pygments_lexer": "ipython2",
   "version": "2.7.13"
  }
 },
 "nbformat": 4,
 "nbformat_minor": 2
}
