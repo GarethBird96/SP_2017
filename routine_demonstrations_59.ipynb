{
 "cells": [
  {
   "cell_type": "code",
   "execution_count": 1,
   "metadata": {},
   "outputs": [],
   "source": [
    "import gps_particle_data_modified as gps_particle_data\n",
    "import wget\n",
    "import os\n",
    "import numpy as np \n",
    "import time\n",
    "import json\n",
    "import sys\n",
    "import math\n",
    "import pickle\n",
    "from datetime import datetime, timedelta, date\n",
    "from itertools import compress\n",
    "from random import randint\n",
    "import urllib2\n",
    "import aacgmv2\n",
    "import scipy\n",
    "import matplotlib\n",
    "from matplotlib import gridspec\n",
    "import numpy as np\n",
    "import matplotlib.pyplot as plt"
   ]
  },
  {
   "cell_type": "code",
   "execution_count": 2,
   "metadata": {
    "scrolled": true
   },
   "outputs": [
    {
     "name": "stdout",
     "output_type": "stream",
     "text": [
      "\n",
      "====================================\n",
      "Loading data for satellite  59\n",
      "File : https://www.ngdc.noaa.gov/stp/space-weather/satellite-data/satellite-systems/gps/data/ns59/ns59_140105_v1.03.ascii\n",
      "File : https://www.ngdc.noaa.gov/stp/space-weather/satellite-data/satellite-systems/gps/data/ns59/ns59_140112_v1.03.ascii\n",
      "File : https://www.ngdc.noaa.gov/stp/space-weather/satellite-data/satellite-systems/gps/data/ns59/ns59_140119_v1.03.ascii\n",
      "File : https://www.ngdc.noaa.gov/stp/space-weather/satellite-data/satellite-systems/gps/data/ns59/ns59_140126_v1.03.ascii\n",
      "File : https://www.ngdc.noaa.gov/stp/space-weather/satellite-data/satellite-systems/gps/data/ns59/ns59_140202_v1.03.ascii\n",
      "File : https://www.ngdc.noaa.gov/stp/space-weather/satellite-data/satellite-systems/gps/data/ns59/ns59_140209_v1.03.ascii\n",
      "File : https://www.ngdc.noaa.gov/stp/space-weather/satellite-data/satellite-systems/gps/data/ns59/ns59_140216_v1.03.ascii\n",
      "File : https://www.ngdc.noaa.gov/stp/space-weather/satellite-data/satellite-systems/gps/data/ns59/ns59_140223_v1.03.ascii\n",
      "File : https://www.ngdc.noaa.gov/stp/space-weather/satellite-data/satellite-systems/gps/data/ns59/ns59_140302_v1.03.ascii\n",
      "File : https://www.ngdc.noaa.gov/stp/space-weather/satellite-data/satellite-systems/gps/data/ns59/ns59_140309_v1.03.ascii\n",
      "File : https://www.ngdc.noaa.gov/stp/space-weather/satellite-data/satellite-systems/gps/data/ns59/ns59_140316_v1.03.ascii\n",
      "File : https://www.ngdc.noaa.gov/stp/space-weather/satellite-data/satellite-systems/gps/data/ns59/ns59_140323_v1.03.ascii\n",
      "File : https://www.ngdc.noaa.gov/stp/space-weather/satellite-data/satellite-systems/gps/data/ns59/ns59_140330_v1.03.ascii\n",
      "File : https://www.ngdc.noaa.gov/stp/space-weather/satellite-data/satellite-systems/gps/data/ns59/ns59_140406_v1.03.ascii\n",
      "File : https://www.ngdc.noaa.gov/stp/space-weather/satellite-data/satellite-systems/gps/data/ns59/ns59_140413_v1.03.ascii\n",
      "File : https://www.ngdc.noaa.gov/stp/space-weather/satellite-data/satellite-systems/gps/data/ns59/ns59_140420_v1.03.ascii\n",
      "File : https://www.ngdc.noaa.gov/stp/space-weather/satellite-data/satellite-systems/gps/data/ns59/ns59_140427_v1.03.ascii\n",
      "File : https://www.ngdc.noaa.gov/stp/space-weather/satellite-data/satellite-systems/gps/data/ns59/ns59_140504_v1.03.ascii\n",
      "File : https://www.ngdc.noaa.gov/stp/space-weather/satellite-data/satellite-systems/gps/data/ns59/ns59_140511_v1.03.ascii\n",
      "File : https://www.ngdc.noaa.gov/stp/space-weather/satellite-data/satellite-systems/gps/data/ns59/ns59_140518_v1.03.ascii\n",
      "File : https://www.ngdc.noaa.gov/stp/space-weather/satellite-data/satellite-systems/gps/data/ns59/ns59_140525_v1.03.ascii\n",
      "File : https://www.ngdc.noaa.gov/stp/space-weather/satellite-data/satellite-systems/gps/data/ns59/ns59_140601_v1.03.ascii\n",
      "File : https://www.ngdc.noaa.gov/stp/space-weather/satellite-data/satellite-systems/gps/data/ns59/ns59_140608_v1.03.ascii\n",
      "File : https://www.ngdc.noaa.gov/stp/space-weather/satellite-data/satellite-systems/gps/data/ns59/ns59_140615_v1.03.ascii\n",
      "File : https://www.ngdc.noaa.gov/stp/space-weather/satellite-data/satellite-systems/gps/data/ns59/ns59_140622_v1.03.ascii\n",
      "File : https://www.ngdc.noaa.gov/stp/space-weather/satellite-data/satellite-systems/gps/data/ns59/ns59_140629_v1.03.ascii\n",
      "File : https://www.ngdc.noaa.gov/stp/space-weather/satellite-data/satellite-systems/gps/data/ns59/ns59_140706_v1.03.ascii\n",
      "File : https://www.ngdc.noaa.gov/stp/space-weather/satellite-data/satellite-systems/gps/data/ns59/ns59_140713_v1.03.ascii\n",
      "File : https://www.ngdc.noaa.gov/stp/space-weather/satellite-data/satellite-systems/gps/data/ns59/ns59_140720_v1.03.ascii\n",
      "File : https://www.ngdc.noaa.gov/stp/space-weather/satellite-data/satellite-systems/gps/data/ns59/ns59_140727_v1.03.ascii\n",
      "File : https://www.ngdc.noaa.gov/stp/space-weather/satellite-data/satellite-systems/gps/data/ns59/ns59_140803_v1.03.ascii\n",
      "File : https://www.ngdc.noaa.gov/stp/space-weather/satellite-data/satellite-systems/gps/data/ns59/ns59_140810_v1.03.ascii\n",
      "File : https://www.ngdc.noaa.gov/stp/space-weather/satellite-data/satellite-systems/gps/data/ns59/ns59_140817_v1.03.ascii\n",
      "File : https://www.ngdc.noaa.gov/stp/space-weather/satellite-data/satellite-systems/gps/data/ns59/ns59_140824_v1.03.ascii\n",
      "File : https://www.ngdc.noaa.gov/stp/space-weather/satellite-data/satellite-systems/gps/data/ns59/ns59_140831_v1.03.ascii\n",
      "File : https://www.ngdc.noaa.gov/stp/space-weather/satellite-data/satellite-systems/gps/data/ns59/ns59_140907_v1.03.ascii\n",
      "File : https://www.ngdc.noaa.gov/stp/space-weather/satellite-data/satellite-systems/gps/data/ns59/ns59_140914_v1.03.ascii\n",
      "File : https://www.ngdc.noaa.gov/stp/space-weather/satellite-data/satellite-systems/gps/data/ns59/ns59_140921_v1.03.ascii\n",
      "File : https://www.ngdc.noaa.gov/stp/space-weather/satellite-data/satellite-systems/gps/data/ns59/ns59_140928_v1.03.ascii\n",
      "File : https://www.ngdc.noaa.gov/stp/space-weather/satellite-data/satellite-systems/gps/data/ns59/ns59_141005_v1.03.ascii\n",
      "File : https://www.ngdc.noaa.gov/stp/space-weather/satellite-data/satellite-systems/gps/data/ns59/ns59_141012_v1.03.ascii\n",
      "File : https://www.ngdc.noaa.gov/stp/space-weather/satellite-data/satellite-systems/gps/data/ns59/ns59_141019_v1.03.ascii\n",
      "File : https://www.ngdc.noaa.gov/stp/space-weather/satellite-data/satellite-systems/gps/data/ns59/ns59_141026_v1.03.ascii\n",
      "File : https://www.ngdc.noaa.gov/stp/space-weather/satellite-data/satellite-systems/gps/data/ns59/ns59_141102_v1.03.ascii\n",
      "File : https://www.ngdc.noaa.gov/stp/space-weather/satellite-data/satellite-systems/gps/data/ns59/ns59_141109_v1.03.ascii\n",
      "File : https://www.ngdc.noaa.gov/stp/space-weather/satellite-data/satellite-systems/gps/data/ns59/ns59_141116_v1.03.ascii\n",
      "File : https://www.ngdc.noaa.gov/stp/space-weather/satellite-data/satellite-systems/gps/data/ns59/ns59_141123_v1.03.ascii\n",
      "File : https://www.ngdc.noaa.gov/stp/space-weather/satellite-data/satellite-systems/gps/data/ns59/ns59_141130_v1.03.ascii\n",
      "File : https://www.ngdc.noaa.gov/stp/space-weather/satellite-data/satellite-systems/gps/data/ns59/ns59_141207_v1.03.ascii\n",
      "File : https://www.ngdc.noaa.gov/stp/space-weather/satellite-data/satellite-systems/gps/data/ns59/ns59_141214_v1.03.ascii\n",
      "File : https://www.ngdc.noaa.gov/stp/space-weather/satellite-data/satellite-systems/gps/data/ns59/ns59_141221_v1.03.ascii\n",
      "File : https://www.ngdc.noaa.gov/stp/space-weather/satellite-data/satellite-systems/gps/data/ns59/ns59_141228_v1.03.ascii\n",
      "File : https://www.ngdc.noaa.gov/stp/space-weather/satellite-data/satellite-systems/gps/data/ns59/ns59_150104_v1.03.ascii\n",
      "File : https://www.ngdc.noaa.gov/stp/space-weather/satellite-data/satellite-systems/gps/data/ns59/ns59_150111_v1.03.ascii\n",
      "File : https://www.ngdc.noaa.gov/stp/space-weather/satellite-data/satellite-systems/gps/data/ns59/ns59_150118_v1.03.ascii\n",
      "File : https://www.ngdc.noaa.gov/stp/space-weather/satellite-data/satellite-systems/gps/data/ns59/ns59_150125_v1.03.ascii\n",
      "File : https://www.ngdc.noaa.gov/stp/space-weather/satellite-data/satellite-systems/gps/data/ns59/ns59_150201_v1.03.ascii\n",
      "File : https://www.ngdc.noaa.gov/stp/space-weather/satellite-data/satellite-systems/gps/data/ns59/ns59_150208_v1.03.ascii\n",
      "File : https://www.ngdc.noaa.gov/stp/space-weather/satellite-data/satellite-systems/gps/data/ns59/ns59_150215_v1.03.ascii\n",
      "File : https://www.ngdc.noaa.gov/stp/space-weather/satellite-data/satellite-systems/gps/data/ns59/ns59_150222_v1.03.ascii\n",
      "File : https://www.ngdc.noaa.gov/stp/space-weather/satellite-data/satellite-systems/gps/data/ns59/ns59_150301_v1.03.ascii\n",
      "File : https://www.ngdc.noaa.gov/stp/space-weather/satellite-data/satellite-systems/gps/data/ns59/ns59_150308_v1.03.ascii\n",
      "File : https://www.ngdc.noaa.gov/stp/space-weather/satellite-data/satellite-systems/gps/data/ns59/ns59_150315_v1.03.ascii\n",
      "File : https://www.ngdc.noaa.gov/stp/space-weather/satellite-data/satellite-systems/gps/data/ns59/ns59_150322_v1.03.ascii\n",
      "File : https://www.ngdc.noaa.gov/stp/space-weather/satellite-data/satellite-systems/gps/data/ns59/ns59_150329_v1.03.ascii\n",
      "File : https://www.ngdc.noaa.gov/stp/space-weather/satellite-data/satellite-systems/gps/data/ns59/ns59_150405_v1.03.ascii\n",
      "File : https://www.ngdc.noaa.gov/stp/space-weather/satellite-data/satellite-systems/gps/data/ns59/ns59_150412_v1.03.ascii\n"
     ]
    },
    {
     "name": "stdout",
     "output_type": "stream",
     "text": [
      "File : https://www.ngdc.noaa.gov/stp/space-weather/satellite-data/satellite-systems/gps/data/ns59/ns59_150419_v1.03.ascii\n",
      "File : https://www.ngdc.noaa.gov/stp/space-weather/satellite-data/satellite-systems/gps/data/ns59/ns59_150426_v1.03.ascii\n",
      "File : https://www.ngdc.noaa.gov/stp/space-weather/satellite-data/satellite-systems/gps/data/ns59/ns59_150503_v1.03.ascii\n",
      "File : https://www.ngdc.noaa.gov/stp/space-weather/satellite-data/satellite-systems/gps/data/ns59/ns59_150510_v1.03.ascii\n",
      "File : https://www.ngdc.noaa.gov/stp/space-weather/satellite-data/satellite-systems/gps/data/ns59/ns59_150517_v1.03.ascii\n",
      "File : https://www.ngdc.noaa.gov/stp/space-weather/satellite-data/satellite-systems/gps/data/ns59/ns59_150524_v1.03.ascii\n",
      "File : https://www.ngdc.noaa.gov/stp/space-weather/satellite-data/satellite-systems/gps/data/ns59/ns59_150531_v1.03.ascii\n",
      "File : https://www.ngdc.noaa.gov/stp/space-weather/satellite-data/satellite-systems/gps/data/ns59/ns59_150607_v1.03.ascii\n",
      "File : https://www.ngdc.noaa.gov/stp/space-weather/satellite-data/satellite-systems/gps/data/ns59/ns59_150614_v1.03.ascii\n",
      "File : https://www.ngdc.noaa.gov/stp/space-weather/satellite-data/satellite-systems/gps/data/ns59/ns59_150621_v1.03.ascii\n",
      "File : https://www.ngdc.noaa.gov/stp/space-weather/satellite-data/satellite-systems/gps/data/ns59/ns59_150628_v1.03.ascii\n",
      "File : https://www.ngdc.noaa.gov/stp/space-weather/satellite-data/satellite-systems/gps/data/ns59/ns59_150705_v1.03.ascii\n",
      "File : https://www.ngdc.noaa.gov/stp/space-weather/satellite-data/satellite-systems/gps/data/ns59/ns59_150712_v1.03.ascii\n",
      "File : https://www.ngdc.noaa.gov/stp/space-weather/satellite-data/satellite-systems/gps/data/ns59/ns59_150719_v1.03.ascii\n",
      "File : https://www.ngdc.noaa.gov/stp/space-weather/satellite-data/satellite-systems/gps/data/ns59/ns59_150726_v1.03.ascii\n",
      "File : https://www.ngdc.noaa.gov/stp/space-weather/satellite-data/satellite-systems/gps/data/ns59/ns59_150802_v1.03.ascii\n",
      "File : https://www.ngdc.noaa.gov/stp/space-weather/satellite-data/satellite-systems/gps/data/ns59/ns59_150809_v1.03.ascii\n",
      "File : https://www.ngdc.noaa.gov/stp/space-weather/satellite-data/satellite-systems/gps/data/ns59/ns59_150816_v1.03.ascii\n",
      "File : https://www.ngdc.noaa.gov/stp/space-weather/satellite-data/satellite-systems/gps/data/ns59/ns59_150823_v1.03.ascii\n",
      "File : https://www.ngdc.noaa.gov/stp/space-weather/satellite-data/satellite-systems/gps/data/ns59/ns59_150830_v1.03.ascii\n",
      "File : https://www.ngdc.noaa.gov/stp/space-weather/satellite-data/satellite-systems/gps/data/ns59/ns59_150906_v1.03.ascii\n",
      "File : https://www.ngdc.noaa.gov/stp/space-weather/satellite-data/satellite-systems/gps/data/ns59/ns59_150913_v1.03.ascii\n",
      "File : https://www.ngdc.noaa.gov/stp/space-weather/satellite-data/satellite-systems/gps/data/ns59/ns59_150920_v1.03.ascii\n",
      "File : https://www.ngdc.noaa.gov/stp/space-weather/satellite-data/satellite-systems/gps/data/ns59/ns59_150927_v1.03.ascii\n",
      "File : https://www.ngdc.noaa.gov/stp/space-weather/satellite-data/satellite-systems/gps/data/ns59/ns59_151004_v1.03.ascii\n",
      "File : https://www.ngdc.noaa.gov/stp/space-weather/satellite-data/satellite-systems/gps/data/ns59/ns59_151011_v1.03.ascii\n",
      "File : https://www.ngdc.noaa.gov/stp/space-weather/satellite-data/satellite-systems/gps/data/ns59/ns59_151018_v1.03.ascii\n",
      "File : https://www.ngdc.noaa.gov/stp/space-weather/satellite-data/satellite-systems/gps/data/ns59/ns59_151025_v1.03.ascii\n",
      "File : https://www.ngdc.noaa.gov/stp/space-weather/satellite-data/satellite-systems/gps/data/ns59/ns59_151101_v1.03.ascii\n",
      "File : https://www.ngdc.noaa.gov/stp/space-weather/satellite-data/satellite-systems/gps/data/ns59/ns59_151108_v1.03.ascii\n",
      "File : https://www.ngdc.noaa.gov/stp/space-weather/satellite-data/satellite-systems/gps/data/ns59/ns59_151115_v1.03.ascii\n",
      "File : https://www.ngdc.noaa.gov/stp/space-weather/satellite-data/satellite-systems/gps/data/ns59/ns59_151122_v1.03.ascii\n",
      "File : https://www.ngdc.noaa.gov/stp/space-weather/satellite-data/satellite-systems/gps/data/ns59/ns59_151129_v1.03.ascii\n",
      "File : https://www.ngdc.noaa.gov/stp/space-weather/satellite-data/satellite-systems/gps/data/ns59/ns59_151206_v1.03.ascii\n",
      "File : https://www.ngdc.noaa.gov/stp/space-weather/satellite-data/satellite-systems/gps/data/ns59/ns59_151213_v1.03.ascii\n",
      "File : https://www.ngdc.noaa.gov/stp/space-weather/satellite-data/satellite-systems/gps/data/ns59/ns59_151220_v1.03.ascii\n",
      "File : https://www.ngdc.noaa.gov/stp/space-weather/satellite-data/satellite-systems/gps/data/ns59/ns59_151227_v1.03.ascii\n",
      "\n",
      "====================================\n",
      "Loading data for satellite  59\n",
      "File : https://www.ngdc.noaa.gov/stp/space-weather/satellite-data/satellite-systems/gps/data/ns59/ns59_090503_v1.03.ascii\n",
      "File : https://www.ngdc.noaa.gov/stp/space-weather/satellite-data/satellite-systems/gps/data/ns59/ns59_090510_v1.03.ascii\n",
      "File : https://www.ngdc.noaa.gov/stp/space-weather/satellite-data/satellite-systems/gps/data/ns59/ns59_090517_v1.03.ascii\n",
      "File : https://www.ngdc.noaa.gov/stp/space-weather/satellite-data/satellite-systems/gps/data/ns59/ns59_090524_v1.03.ascii\n",
      "File : https://www.ngdc.noaa.gov/stp/space-weather/satellite-data/satellite-systems/gps/data/ns59/ns59_090531_v1.03.ascii\n",
      "File : https://www.ngdc.noaa.gov/stp/space-weather/satellite-data/satellite-systems/gps/data/ns59/ns59_090607_v1.03.ascii\n",
      "File : https://www.ngdc.noaa.gov/stp/space-weather/satellite-data/satellite-systems/gps/data/ns59/ns59_090614_v1.03.ascii\n",
      "File : https://www.ngdc.noaa.gov/stp/space-weather/satellite-data/satellite-systems/gps/data/ns59/ns59_090621_v1.03.ascii\n",
      "File : https://www.ngdc.noaa.gov/stp/space-weather/satellite-data/satellite-systems/gps/data/ns59/ns59_090628_v1.03.ascii\n",
      "Seconds elapsed:2512.242619\n",
      "Finished Successfully\n"
     ]
    }
   ],
   "source": [
    "#Collecting data and avoiding nuclear tests for all the months in 2014 and 2015\n",
    "\n",
    "start_date = datetime(2014,1,1,0,0,0);\n",
    "end_date = datetime(2016,1,1,0,0,0);\n",
    "nkstart_date = datetime(2009,4,30,0,0,0);\n",
    "nkend_date = datetime(2009,6,30,0,0,0);\n",
    "#end_date = datetime(2014,1,5,0,0,0);\n",
    "satellite_numbers = {59}\n",
    "#Declare Meta Search\n",
    "ms = gps_particle_data.meta_search(satellite_numbers);\n",
    "nkms = gps_particle_data.meta_search(satellite_numbers);\n",
    "#Time Running of download state\n",
    "dlstart = datetime.now()\n",
    "#Download Command: Takes ~25 mins, could do with parralelisation\n",
    "ms.load_data(start_date,end_date);\n",
    "nkms.load_data(nkstart_date,nkend_date)\n",
    "dlfin = datetime.now()\n",
    "print (\"Seconds elapsed:\" + str((dlfin-dlstart).total_seconds()))\n",
    "output_data = ms.get_all_data_by_satellite()\n",
    "nkoutput_data = nkms.get_all_data_by_satellite()\n",
    "signal = 'rate_electron_measured'\n",
    "print \"Finished Successfully\""
   ]
  },
  {
   "cell_type": "code",
   "execution_count": 3,
   "metadata": {
    "scrolled": true
   },
   "outputs": [],
   "source": [
    "#Begin Using the cross correlation object set\n",
    "import xcorrobj\n",
    "reload(xcorrobj)\n",
    "background = xcorrobj.crosscorrelator()\n",
    "nkevent = xcorrobj.crosscorrelator()\n",
    "#background.add_correlation_data_channel(0,chsignal)\n",
    "#Load data into the plotting object\n",
    "signal = 'rate_electron_measured'\n",
    "background.add_all_signals(output_data,59,signal)\n",
    "background.add_time_data(output_data[59]['datetime'][:])\n",
    "nkevent.add_all_signals(nkoutput_data,59,signal)\n",
    "nkevent.add_time_data(nkoutput_data[59]['datetime'][:])"
   ]
  },
  {
   "cell_type": "code",
   "execution_count": 4,
   "metadata": {},
   "outputs": [],
   "source": [
    "#Define Time interval and calculate correlations\n",
    "correlation_interval=timedelta(hours=48)\n",
    "half_interval=timedelta(seconds=correlation_interval.total_seconds() * 0.5)\n",
    "background.create_corr_matrix(correlation_interval)\n",
    "nkevent.create_corr_matrix(correlation_interval)\n",
    "background.create_nonorm_corr_matrix(correlation_interval)\n",
    "nkevent.create_nonorm_corr_matrix(correlation_interval)\n",
    "#Write to plot generator\n",
    "plots = xcorrobj.plotgenerator(59,background,nkevent)"
   ]
  },
  {
   "cell_type": "code",
   "execution_count": 5,
   "metadata": {
    "scrolled": true
   },
   "outputs": [
    {
     "name": "stdout",
     "output_type": "stream",
     "text": [
      "Number Of Plots 14\n",
      "Number Of Plots 10\n",
      "Number Of Plots 8\n",
      "Number Of Plots 5\n",
      "Number Of Plots 2\n",
      "Number Of Plots 2\n",
      "Number Of Plots 8\n",
      "Number Of Plots 6\n",
      "Number Of Plots 11\n",
      "Number Of Plots 8\n",
      "Number Of Plots 14\n",
      "Number Of Plots 12\n",
      "Number Of Plots 14\n",
      "Number Of Plots 10\n",
      "Number Of Plots 13\n",
      "Number Of Plots 10\n",
      "Number Of Plots 13\n",
      "Number Of Plots 10\n",
      "Number Of Plots 12\n",
      "Number Of Plots 10\n",
      "Number Of Plots 12\n"
     ]
    },
    {
     "name": "stderr",
     "output_type": "stream",
     "text": [
      "/usr/lib/python2.7/dist-packages/matplotlib/pyplot.py:516: RuntimeWarning: More than 20 figures have been opened. Figures created through the pyplot interface (`matplotlib.pyplot.figure`) are retained until explicitly closed and may consume too much memory. (To control this warning, see the rcParam `figure.max_open_warning`).\n",
      "  max_open_warning, RuntimeWarning)\n"
     ]
    },
    {
     "name": "stdout",
     "output_type": "stream",
     "text": [
      "Number Of Plots 10\n"
     ]
    }
   ],
   "source": [
    "for ch2 in range(11):\n",
    "    #Create Signal time scatters: details in routine and presentation for dec 20th\n",
    "    plots.generate_signal_time_plots(2,ch2,filedir='ns59/sigtime/bg/')\n",
    "    plots.generate_signal_time_plots(2,ch2,filedir='ns59/sigtime/nk09/',nktest=True)"
   ]
  },
  {
   "cell_type": "code",
   "execution_count": 6,
   "metadata": {},
   "outputs": [],
   "source": [
    "#Create Bad Data checks\n",
    "plots.show_all_bad_data_plots(fileprefix='ns59/badspectra/')"
   ]
  },
  {
   "cell_type": "code",
   "execution_count": 7,
   "metadata": {},
   "outputs": [
    {
     "name": "stdout",
     "output_type": "stream",
     "text": [
      "ns59/figures/4hours\n",
      "ns59/figures/12hours\n",
      "ns59/figures/24hours\n",
      "ns59/figures/36hours\n",
      "ns59/figures/48hours\n",
      "ns59/figures/72hours\n",
      "ns59/figures/90hours\n",
      "ns59/figures/120hours\n"
     ]
    }
   ],
   "source": [
    "import xcorrobj\n",
    "reload(xcorrobj)\n",
    "#Run Filips plots with extension, needs ideally adding to the ploy class\n",
    "sat_num=59\n",
    "hourintervals=[4,12,24,36,48,72,90,120]\n",
    "intervallist=[timedelta(hours=int(number)) for number in hourintervals]\n",
    "for times in intervallist:\n",
    "    xcorrobj.fulldataconstruction(sat_num,output_data,nkoutput_data,times)"
   ]
  },
  {
   "cell_type": "code",
   "execution_count": null,
   "metadata": {},
   "outputs": [],
   "source": []
  }
 ],
 "metadata": {
  "kernelspec": {
   "display_name": "Python 2",
   "language": "python",
   "name": "python2"
  },
  "language_info": {
   "codemirror_mode": {
    "name": "ipython",
    "version": 2
   },
   "file_extension": ".py",
   "mimetype": "text/x-python",
   "name": "python",
   "nbconvert_exporter": "python",
   "pygments_lexer": "ipython2",
   "version": "2.7.12"
  }
 },
 "nbformat": 4,
 "nbformat_minor": 2
}
